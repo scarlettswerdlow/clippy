{
 "cells": [
  {
   "cell_type": "code",
   "execution_count": 51,
   "metadata": {},
   "outputs": [],
   "source": [
    "import re"
   ]
  },
  {
   "cell_type": "code",
   "execution_count": 52,
   "metadata": {},
   "outputs": [],
   "source": [
    "FILEPATH = \"../data/My Clippings.txt\""
   ]
  },
  {
   "cell_type": "code",
   "execution_count": null,
   "metadata": {},
   "outputs": [],
   "source": [
    "with open (FILEPATH, \"r\", encoding=\"utf-8-sig\") as file:\n",
    "    content = file.read()\n",
    "    lines = content.split(\"==========\")"
   ]
  },
  {
   "cell_type": "code",
   "execution_count": null,
   "metadata": {},
   "outputs": [],
   "source": [
    "def get_title_author(split_line):\n",
    "    \"\"\"\n",
    "    Get title and author from Kindle clipping\n",
    "\n",
    "    :param split_line: Clipping split on linebreak\n",
    "    :type split_line: String\n",
    "    \"\"\"\n",
    "    try:\n",
    "        return split_line[0].strip()\n",
    "    except IndexError as e:\n",
    "        print(f\"Error {e} on line {split_line}\")\n",
    "        return None"
   ]
  },
  {
   "cell_type": "code",
   "execution_count": null,
   "metadata": {},
   "outputs": [],
   "source": [
    "def get_page(split_line):\n",
    "    \"\"\"\n",
    "    Get page from Kindle clipping\n",
    "    \n",
    "    :param split_line: Clipping split on linebreak\n",
    "    :type split_line: String\n",
    "    \"\"\"\n",
    "    page_location_date = split_line[1].split(\"|\")\n",
    "    # Length of 2 means Kindle text does not have pages, only Kindle locations\n",
    "    if len(page_location_date) == 2:\n",
    "        return None\n",
    "    try:\n",
    "        page = re.search(r'\\d+', page_location_date[0]).group()\n",
    "        return int(page)\n",
    "    except IndexError as e:\n",
    "        print(f\"Error {e} on line {split_line}\")\n",
    "        return None"
   ]
  },
  {
   "cell_type": "code",
   "execution_count": 99,
   "metadata": {},
   "outputs": [],
   "source": [
    "def get_start_location(location):\n",
    "    \"\"\"\n",
    "    Get Kindle start location from Kindle clipping\n",
    "    \n",
    "    :param location: Clipping split on linebreak and then split on |\n",
    "    :type location: String\n",
    "    \"\"\"\n",
    "    locations = re.findall(r'\\d+', location)\n",
    "    start_location = locations[0]\n",
    "    return int(start_location)"
   ]
  },
  {
   "cell_type": "code",
   "execution_count": 100,
   "metadata": {},
   "outputs": [],
   "source": [
    "def get_end_location(location):\n",
    "    \"\"\"\n",
    "    Get Kindle end location from Kindle clipping\n",
    "    \n",
    "    :param location: Clipping split on linebreak and then split on |\n",
    "    :type location: String\n",
    "    \"\"\"\n",
    "    locations = re.findall(r'\\d+', location)\n",
    "    # Length of 1 means Kindle clipping only has starting location\n",
    "    if len(locations) == 1:\n",
    "        return None\n",
    "    end_location = locations[1]\n",
    "    return int(end_location)"
   ]
  },
  {
   "cell_type": "code",
   "execution_count": null,
   "metadata": {},
   "outputs": [],
   "source": [
    "def get_locations(split_line):\n",
    "    \"\"\"\n",
    "    Get Kindle location from Kindle clipping\n",
    "    \n",
    "    :param split_line: Clipping split on linebreak\n",
    "    :type split_line: String\n",
    "    \"\"\"\n",
    "    page_location_date = split_line[1].split(\"|\")\n",
    "    # Length of 2 means Kindle text does not have pages, only Kindle locations\n",
    "    if len(page_location_date) == 2:\n",
    "        location = page_location_date[0]\n",
    "        start_location = get_start_location(location)\n",
    "        end_location = get_end_location(location)\n",
    "    # Length of 3 means Kindle text has pages and locations\n",
    "    if len(page_location_date) == 3:\n",
    "        location = page_location_date[1]\n",
    "        start_location = get_start_location(location)\n",
    "        end_location = get_end_location(location)\n",
    "    else:\n",
    "        start_location = end_location = None\n",
    "    return start_location, end_location"
   ]
  },
  {
   "cell_type": "code",
   "execution_count": 105,
   "metadata": {},
   "outputs": [],
   "source": [
    "def get_date_added(split_line):\n",
    "    \"\"\"\n",
    "    Get date clipping was made from Kindle clipping\n",
    "    \n",
    "    :param split_line: Clipping split on linebreak\n",
    "    :type split_line: String\n",
    "    \"\"\"\n",
    "    page_location_date = split_line[1].split(\"|\")\n",
    "    try:\n",
    "        # Date is always last item on this line\n",
    "        date = page_location_date[-1]\n",
    "        return date.strip(\" Added on \").strip()\n",
    "    except IndexError as e:\n",
    "        print(f\"Error {e} on line {split_line}\")\n",
    "        return None"
   ]
  },
  {
   "cell_type": "code",
   "execution_count": 109,
   "metadata": {},
   "outputs": [],
   "source": [
    "def get_text(split_line):\n",
    "    \"\"\"\n",
    "    Get highlighted text from Kindle clipping\n",
    "    \n",
    "    :param split_line: Clipping split on linebreak\n",
    "    :type split_line: String\n",
    "    \"\"\"\n",
    "    try:\n",
    "        text = split_line[2]\n",
    "        return text.strip()\n",
    "    except IndexError as e:\n",
    "        print(f\"Error {e} on line {split_line}\")\n",
    "        return None"
   ]
  },
  {
   "cell_type": "code",
   "execution_count": 110,
   "metadata": {},
   "outputs": [],
   "source": [
    "def parse_line(line):\n",
    "    # Remove any empty strings from split line\n",
    "    line_split = [s for s in line.split(\"\\n\") if s]\n",
    "    title_author = get_title_author(line_split)\n",
    "    page = get_page(line_split)\n",
    "    location_start, location_end = get_locations(line_split)\n",
    "    date_added = get_date_added(line_split)\n",
    "    text = get_text(line_split)\n",
    "    return [title_author, page, location_start, location_end, date_added, text]\n"
   ]
  },
  {
   "cell_type": "code",
   "execution_count": 111,
   "metadata": {},
   "outputs": [
    {
     "name": "stdout",
     "output_type": "stream",
     "text": [
      "Error list index out of range on line ['The Civil War: A Narrative: Volume 2: Fredericksburg to Meridian (Vintage Civil War Library) (Foote, Shelby)', '- Your Bookmark on page 218 | Location 4478 | Added on Saturday, March 15, 2025 11:32:17 AM']\n"
     ]
    }
   ],
   "source": [
    "clippings = []\n",
    "for line in lines:\n",
    "    if line == \"\\n\":\n",
    "        continue\n",
    "    try:\n",
    "        parsed_line = parse_line(line)\n",
    "        clippings.append(parsed_line)\n",
    "    except Exception as e:\n",
    "        print(f'Problem {e} with {line}')"
   ]
  },
  {
   "cell_type": "code",
   "execution_count": 112,
   "metadata": {},
   "outputs": [
    {
     "data": {
      "text/plain": [
       "[['A Murder of Quality: A George Smiley Novel (George Smiley Novels Book 2) (le Carré, John)',\n",
       "  39,\n",
       "  673,\n",
       "  673,\n",
       "  'Saturday, July 15, 2023 8:14:37 AM',\n",
       "  'we’ve got to rely on laboratories, tracker dogs, and nation'],\n",
       " ['The Looking Glass War: A George Smiley Novel (George Smiley Novels Book 4) (le Carré, John)',\n",
       "  221,\n",
       "  3115,\n",
       "  3115,\n",
       "  'Saturday, July 29, 2023 10:33:14 PM',\n",
       "  'understand why he was so hungry. Perhaps it was the exercise. Yes, it must be the exercise. He would eat, but not in a'],\n",
       " ['Tinker, Tailor, Soldier, Spy: A George Smiley Novel (George Smiley Novels Book 5) (le Carré, John)',\n",
       "  259,\n",
       "  3185,\n",
       "  3185,\n",
       "  'Sunday, August 6, 2023 10:34:40 PM',\n",
       "  'Mary Masterman; could Sam swing it?'],\n",
       " ['The Honourable Schoolboy: A George Smiley Novel (George Smiley Novels Book 6) (le Carré, John)',\n",
       "  344,\n",
       "  5075,\n",
       "  5075,\n",
       "  'Wednesday, August 30, 2023 9:47:18 PM',\n",
       "  'and even what they intend toward him. We could take'],\n",
       " ['The Secret Pilgrim (George Smiley Novels) (le Carré, John)',\n",
       "  328,\n",
       "  4782,\n",
       "  4782,\n",
       "  'Sunday, October 1, 2023 1:22:34 PM',\n",
       "  'Iron Curtain country was remotely present?”']]"
      ]
     },
     "execution_count": 112,
     "metadata": {},
     "output_type": "execute_result"
    }
   ],
   "source": [
    "clippings[0:5]"
   ]
  },
  {
   "cell_type": "code",
   "execution_count": null,
   "metadata": {},
   "outputs": [],
   "source": []
  }
 ],
 "metadata": {
  "kernelspec": {
   "display_name": "venv",
   "language": "python",
   "name": "python3"
  },
  "language_info": {
   "codemirror_mode": {
    "name": "ipython",
    "version": 3
   },
   "file_extension": ".py",
   "mimetype": "text/x-python",
   "name": "python",
   "nbconvert_exporter": "python",
   "pygments_lexer": "ipython3",
   "version": "3.10.1"
  }
 },
 "nbformat": 4,
 "nbformat_minor": 2
}
